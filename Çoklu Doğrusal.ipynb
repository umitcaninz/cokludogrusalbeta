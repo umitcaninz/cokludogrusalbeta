{
 "cells": [
  {
   "cell_type": "code",
   "execution_count": 1,
   "id": "c8abf54b",
   "metadata": {
    "pycharm": {
     "name": "#%%\n"
    }
   },
   "outputs": [
    {
     "name": "stderr",
     "output_type": "stream",
     "text": [
      "C:\\Users\\can\\anaconda3\\lib\\site-packages\\scipy\\__init__.py:146: UserWarning: A NumPy version >=1.16.5 and <1.23.0 is required for this version of SciPy (detected version 1.24.0\n",
      "  warnings.warn(f\"A NumPy version >={np_minversion} and <{np_maxversion}\"\n"
     ]
    }
   ],
   "source": [
    "import pandas as pd\n",
    "import numpy as np\n",
    "import seaborn as sns\n",
    "import matplotlib.pyplot as plt\n",
    "from scipy import stats\n",
    "import statsmodels.stats.api as sms\n",
    "import scipy.stats\n",
    "from sklearn.linear_model import LinearRegression\n",
    "from statsmodels.formula.api import ols\n",
    "from statsmodels.stats.anova import anova_lm\n",
    "\n",
    "from scipy.stats import ttest_1samp , shapiro , levene , ttest_ind ,mannwhitneyu ,pearsonr,spearmanr,kendalltau,f_oneway,kruskal"
   ]
  },
  {
   "cell_type": "code",
   "execution_count": 2,
   "id": "964b8ae8",
   "metadata": {
    "scrolled": true,
    "pycharm": {
     "name": "#%%\n"
    }
   },
   "outputs": [],
   "source": [
    "data = pd.read_csv(\"C:/Users/can/Desktop/Marketing_Data.csv\")\n",
    "df = data.copy()"
   ]
  },
  {
   "cell_type": "code",
   "execution_count": 3,
   "id": "5eba1f33",
   "metadata": {
    "pycharm": {
     "name": "#%%\n"
    }
   },
   "outputs": [
    {
     "data": {
      "text/html": [
       "<div>\n",
       "<style scoped>\n",
       "    .dataframe tbody tr th:only-of-type {\n",
       "        vertical-align: middle;\n",
       "    }\n",
       "\n",
       "    .dataframe tbody tr th {\n",
       "        vertical-align: top;\n",
       "    }\n",
       "\n",
       "    .dataframe thead th {\n",
       "        text-align: right;\n",
       "    }\n",
       "</style>\n",
       "<table border=\"1\" class=\"dataframe\">\n",
       "  <thead>\n",
       "    <tr style=\"text-align: right;\">\n",
       "      <th></th>\n",
       "      <th>youtube</th>\n",
       "      <th>facebook</th>\n",
       "      <th>newspaper</th>\n",
       "      <th>sales</th>\n",
       "    </tr>\n",
       "  </thead>\n",
       "  <tbody>\n",
       "    <tr>\n",
       "      <th>0</th>\n",
       "      <td>84.72</td>\n",
       "      <td>19.20</td>\n",
       "      <td>48.96</td>\n",
       "      <td>12.60</td>\n",
       "    </tr>\n",
       "    <tr>\n",
       "      <th>1</th>\n",
       "      <td>351.48</td>\n",
       "      <td>33.96</td>\n",
       "      <td>51.84</td>\n",
       "      <td>25.68</td>\n",
       "    </tr>\n",
       "    <tr>\n",
       "      <th>2</th>\n",
       "      <td>135.48</td>\n",
       "      <td>20.88</td>\n",
       "      <td>46.32</td>\n",
       "      <td>14.28</td>\n",
       "    </tr>\n",
       "    <tr>\n",
       "      <th>3</th>\n",
       "      <td>116.64</td>\n",
       "      <td>1.80</td>\n",
       "      <td>36.00</td>\n",
       "      <td>11.52</td>\n",
       "    </tr>\n",
       "    <tr>\n",
       "      <th>4</th>\n",
       "      <td>318.72</td>\n",
       "      <td>24.00</td>\n",
       "      <td>0.36</td>\n",
       "      <td>20.88</td>\n",
       "    </tr>\n",
       "  </tbody>\n",
       "</table>\n",
       "</div>"
      ],
      "text/plain": [
       "   youtube  facebook  newspaper  sales\n",
       "0    84.72     19.20      48.96  12.60\n",
       "1   351.48     33.96      51.84  25.68\n",
       "2   135.48     20.88      46.32  14.28\n",
       "3   116.64      1.80      36.00  11.52\n",
       "4   318.72     24.00       0.36  20.88"
      ]
     },
     "execution_count": 3,
     "metadata": {},
     "output_type": "execute_result"
    }
   ],
   "source": [
    "df.head()"
   ]
  },
  {
   "cell_type": "code",
   "execution_count": 4,
   "id": "d67795c3",
   "metadata": {
    "pycharm": {
     "name": "#%%\n"
    }
   },
   "outputs": [
    {
     "name": "stdout",
     "output_type": "stream",
     "text": [
      "<class 'pandas.core.frame.DataFrame'>\n",
      "RangeIndex: 171 entries, 0 to 170\n",
      "Data columns (total 4 columns):\n",
      " #   Column     Non-Null Count  Dtype  \n",
      "---  ------     --------------  -----  \n",
      " 0   youtube    171 non-null    float64\n",
      " 1   facebook   171 non-null    float64\n",
      " 2   newspaper  171 non-null    float64\n",
      " 3   sales      171 non-null    float64\n",
      "dtypes: float64(4)\n",
      "memory usage: 5.5 KB\n"
     ]
    }
   ],
   "source": [
    "df.info()"
   ]
  },
  {
   "cell_type": "code",
   "execution_count": 5,
   "id": "5c7e9f6b",
   "metadata": {
    "pycharm": {
     "name": "#%%\n"
    }
   },
   "outputs": [
    {
     "data": {
      "text/plain": [
       "(171, 4)"
      ]
     },
     "execution_count": 5,
     "metadata": {},
     "output_type": "execute_result"
    }
   ],
   "source": [
    "df.shape"
   ]
  },
  {
   "cell_type": "code",
   "execution_count": 6,
   "id": "a66aab6b",
   "metadata": {
    "scrolled": true,
    "pycharm": {
     "name": "#%%\n"
    }
   },
   "outputs": [
    {
     "data": {
      "text/html": [
       "<div>\n",
       "<style scoped>\n",
       "    .dataframe tbody tr th:only-of-type {\n",
       "        vertical-align: middle;\n",
       "    }\n",
       "\n",
       "    .dataframe tbody tr th {\n",
       "        vertical-align: top;\n",
       "    }\n",
       "\n",
       "    .dataframe thead th {\n",
       "        text-align: right;\n",
       "    }\n",
       "</style>\n",
       "<table border=\"1\" class=\"dataframe\">\n",
       "  <thead>\n",
       "    <tr style=\"text-align: right;\">\n",
       "      <th></th>\n",
       "      <th>youtube</th>\n",
       "      <th>facebook</th>\n",
       "      <th>newspaper</th>\n",
       "      <th>sales</th>\n",
       "    </tr>\n",
       "  </thead>\n",
       "  <tbody>\n",
       "    <tr>\n",
       "      <th>youtube</th>\n",
       "      <td>1.000000</td>\n",
       "      <td>0.086538</td>\n",
       "      <td>0.110759</td>\n",
       "      <td>0.782030</td>\n",
       "    </tr>\n",
       "    <tr>\n",
       "      <th>facebook</th>\n",
       "      <td>0.086538</td>\n",
       "      <td>1.000000</td>\n",
       "      <td>0.293425</td>\n",
       "      <td>0.602918</td>\n",
       "    </tr>\n",
       "    <tr>\n",
       "      <th>newspaper</th>\n",
       "      <td>0.110759</td>\n",
       "      <td>0.293425</td>\n",
       "      <td>1.000000</td>\n",
       "      <td>0.254987</td>\n",
       "    </tr>\n",
       "    <tr>\n",
       "      <th>sales</th>\n",
       "      <td>0.782030</td>\n",
       "      <td>0.602918</td>\n",
       "      <td>0.254987</td>\n",
       "      <td>1.000000</td>\n",
       "    </tr>\n",
       "  </tbody>\n",
       "</table>\n",
       "</div>"
      ],
      "text/plain": [
       "            youtube  facebook  newspaper     sales\n",
       "youtube    1.000000  0.086538   0.110759  0.782030\n",
       "facebook   0.086538  1.000000   0.293425  0.602918\n",
       "newspaper  0.110759  0.293425   1.000000  0.254987\n",
       "sales      0.782030  0.602918   0.254987  1.000000"
      ]
     },
     "execution_count": 6,
     "metadata": {},
     "output_type": "execute_result"
    }
   ],
   "source": [
    "df.corr()"
   ]
  },
  {
   "cell_type": "code",
   "execution_count": 7,
   "id": "f8bb1277",
   "metadata": {
    "scrolled": true,
    "pycharm": {
     "name": "#%%\n"
    }
   },
   "outputs": [
    {
     "data": {
      "text/plain": [
       "<AxesSubplot:xlabel='newspaper', ylabel='sales'>"
      ]
     },
     "execution_count": 7,
     "metadata": {},
     "output_type": "execute_result"
    },
    {
     "data": {
      "image/png": "[encoded data removed]",
      "text/plain": [
       "<Figure size 640x480 with 1 Axes>"
      ]
     },
     "metadata": {},
     "output_type": "display_data"
    }
   ],
   "source": [
    "sns.scatterplot(data = df , x=\"newspaper\",y=\"sales\")"
   ]
  },
  {
   "cell_type": "code",
   "execution_count": 8,
   "id": "c6c8dc72",
   "metadata": {
    "pycharm": {
     "name": "#%%\n"
    }
   },
   "outputs": [
    {
     "data": {
      "text/plain": [
       "<AxesSubplot:xlabel='facebook', ylabel='sales'>"
      ]
     },
     "execution_count": 8,
     "metadata": {},
     "output_type": "execute_result"
    },
    {
     "data": {
      "image/png": "[encoded data removed]",
      "text/plain": [
       "<Figure size 640x480 with 1 Axes>"
      ]
     },
     "metadata": {},
     "output_type": "display_data"
    }
   ],
   "source": [
    "sns.scatterplot(data = df , x=\"facebook\",y=\"sales\")"
   ]
  },
  {
   "cell_type": "code",
   "execution_count": 9,
   "id": "29efb23b",
   "metadata": {
    "pycharm": {
     "name": "#%%\n"
    }
   },
   "outputs": [
    {
     "data": {
      "text/plain": [
       "<AxesSubplot:xlabel='facebook', ylabel='sales'>"
      ]
     },
     "execution_count": 9,
     "metadata": {},
     "output_type": "execute_result"
    },
    {
     "data": {
      "image/png": "[encoded data removed]",
      "text/plain": [
       "<Figure size 640x480 with 1 Axes>"
      ]
     },
     "metadata": {},
     "output_type": "display_data"
    }
   ],
   "source": [
    "sns.scatterplot(data = df , x=\"facebook\",y=\"sales\")"
   ]
  },
  {
   "cell_type": "code",
   "execution_count": 10,
   "id": "fe47ca71",
   "metadata": {
    "pycharm": {
     "name": "#%%\n"
    }
   },
   "outputs": [
    {
     "data": {
      "image/png": "[encoded data removed]",
      "text/plain": [
       "<Figure size 640x480 with 1 Axes>"
      ]
     },
     "metadata": {},
     "output_type": "display_data"
    }
   ],
   "source": [
    "df.plot(kind='box')\n",
    "plt.show()"
   ]
  },
  {
   "cell_type": "code",
   "execution_count": 11,
   "id": "5f5dedc9",
   "metadata": {
    "pycharm": {
     "name": "#%%\n"
    }
   },
   "outputs": [
    {
     "name": "stderr",
     "output_type": "stream",
     "text": [
      "C:\\Users\\can\\anaconda3\\lib\\site-packages\\seaborn\\distributions.py:2619: FutureWarning: `distplot` is a deprecated function and will be removed in a future version. Please adapt your code to use either `displot` (a figure-level function with similar flexibility) or `histplot` (an axes-level function for histograms).\n",
      "  warnings.warn(msg, FutureWarning)\n"
     ]
    },
    {
     "data": {
      "text/plain": [
       "<AxesSubplot:ylabel='Density'>"
      ]
     },
     "execution_count": 11,
     "metadata": {},
     "output_type": "execute_result"
    },
    {
     "data": {
      "image/png": "[encoded data removed]",
      "text/plain": [
       "<Figure size 640x480 with 1 Axes>"
      ]
     },
     "metadata": {},
     "output_type": "display_data"
    }
   ],
   "source": [
    "sns.distplot(df[[\"sales\"]])"
   ]
  },
  {
   "cell_type": "markdown",
   "id": "79c709a8",
   "metadata": {
    "pycharm": {
     "name": "#%% md\n"
    }
   },
   "source": [
    "\n",
    "\n",
    "\n",
    "\n",
    "<h1 style=\"background-color:#3b5998;font-family:newtimeroman;font-size:200%;text-align:left;color:#FFFFFF\">Bağımlı değişken normal dağılımlı mı ?\n",
    "</h1>\n",
    "\n",
    "\n",
    "\n",
    "\n",
    "\n",
    " \n",
    "\n"
   ]
  },
  {
   "cell_type": "code",
   "execution_count": 12,
   "id": "e109cc7e",
   "metadata": {
    "pycharm": {
     "name": "#%%\n"
    }
   },
   "outputs": [
    {
     "name": "stdout",
     "output_type": "stream",
     "text": [
      "Sales  p-value = 0.0039\n"
     ]
    }
   ],
   "source": [
    "test_stat, pvalue = shapiro(df[\"sales\"])\n",
    "print('Sales  p-value = %.4f' % ( pvalue))"
   ]
  },
  {
   "cell_type": "markdown",
   "id": "d2d92220",
   "metadata": {
    "pycharm": {
     "name": "#%% md\n"
    }
   },
   "source": [
    "\n",
    "\n",
    "\n",
    "\n",
    "<h1 style=\"background-color:#3b5998;font-family:newtimeroman;font-size:200%;text-align:left;color:#FFFFFF\">p-value varsayılan alfa değeri olan 0.05'den küçük olduğu için veri normal dağılımlı değildir.\n",
    "\n",
    "\n",
    "\n",
    "\n",
    "\n",
    " \n"
   ]
  },
  {
   "cell_type": "markdown",
   "id": "cdadd8f2",
   "metadata": {
    "pycharm": {
     "name": "#%% md\n"
    }
   },
   "source": [
    "\n",
    "\n",
    "\n",
    "\n",
    "<h1 style=\"background-color:#3b5998;font-family:newtimeroman;font-size:250%;text-align:left;color:#FFFFFF\">Model katsayılarını belirleme\n",
    "</h1>\n",
    "\n",
    "\n",
    "\n",
    "\n",
    "\n",
    " \n"
   ]
  },
  {
   "cell_type": "code",
   "execution_count": 13,
   "id": "64218309",
   "metadata": {
    "pycharm": {
     "name": "#%%\n"
    }
   },
   "outputs": [
    {
     "data": {
      "text/plain": [
       "(171, 4)"
      ]
     },
     "execution_count": 13,
     "metadata": {},
     "output_type": "execute_result"
    }
   ],
   "source": [
    "df.shape"
   ]
  },
  {
   "cell_type": "code",
   "execution_count": 14,
   "id": "aff88347",
   "metadata": {
    "pycharm": {
     "name": "#%%\n"
    }
   },
   "outputs": [
    {
     "name": "stdout",
     "output_type": "stream",
     "text": [
      "(171, 4)\n"
     ]
    }
   ],
   "source": [
    "np_data_array = pd.DataFrame(df).to_numpy()\n",
    "print(np_data_array.shape)"
   ]
  },
  {
   "cell_type": "code",
   "execution_count": 15,
   "id": "eca659b6",
   "metadata": {
    "scrolled": true,
    "pycharm": {
     "name": "#%%\n"
    }
   },
   "outputs": [],
   "source": [
    "train_X_feat = df.iloc[:160,:3]\n",
    "train_y_feat = df.iloc[:160,3:]"
   ]
  },
  {
   "cell_type": "code",
   "execution_count": 16,
   "id": "22e56bf6",
   "metadata": {
    "pycharm": {
     "name": "#%%\n"
    }
   },
   "outputs": [
    {
     "data": {
      "text/plain": [
       "(160, 3)"
      ]
     },
     "execution_count": 16,
     "metadata": {},
     "output_type": "execute_result"
    }
   ],
   "source": [
    "train_X_feat.shape"
   ]
  },
  {
   "cell_type": "code",
   "execution_count": 17,
   "id": "2390602b",
   "metadata": {
    "pycharm": {
     "name": "#%%\n"
    }
   },
   "outputs": [
    {
     "data": {
      "text/plain": [
       "(160, 1)"
      ]
     },
     "execution_count": 17,
     "metadata": {},
     "output_type": "execute_result"
    }
   ],
   "source": [
    "train_y_feat.shape"
   ]
  },
  {
   "cell_type": "code",
   "execution_count": 18,
   "id": "62ef7dc2",
   "metadata": {
    "pycharm": {
     "name": "#%%\n"
    }
   },
   "outputs": [],
   "source": [
    "test_X_feat = df.iloc[160:np_data_array.shape[0],:3]\n",
    "test_y_feat = df.iloc[160:np_data_array.shape[0],3:]"
   ]
  },
  {
   "cell_type": "code",
   "execution_count": 19,
   "id": "8d92abe5",
   "metadata": {
    "pycharm": {
     "name": "#%%\n"
    }
   },
   "outputs": [
    {
     "data": {
      "text/plain": [
       "(11, 3)"
      ]
     },
     "execution_count": 19,
     "metadata": {},
     "output_type": "execute_result"
    }
   ],
   "source": [
    "test_X_feat.shape"
   ]
  },
  {
   "cell_type": "code",
   "execution_count": 20,
   "id": "4e605d55",
   "metadata": {
    "pycharm": {
     "name": "#%%\n"
    }
   },
   "outputs": [
    {
     "data": {
      "text/plain": [
       "(11, 1)"
      ]
     },
     "execution_count": 20,
     "metadata": {},
     "output_type": "execute_result"
    }
   ],
   "source": [
    "test_y_feat.shape"
   ]
  },
  {
   "cell_type": "markdown",
   "id": "e9d0e14c",
   "metadata": {
    "pycharm": {
     "name": "#%% md\n"
    }
   },
   "source": [
    "\n",
    "\n",
    "\n",
    "\n",
    "<h1 style=\"background-color:#3b5998;font-family:newtimeroman;font-size:350%;text-align:center;border-radius: 20px 20px;color:#FFFFFF\">B^ = (X'X)-¹ * X'y\n",
    "</h1>\n",
    "\n",
    "\n",
    "\n",
    "\n",
    "\n",
    " "
   ]
  },
  {
   "cell_type": "code",
   "execution_count": 21,
   "id": "4a00b261",
   "metadata": {
    "pycharm": {
     "name": "#%%\n"
    }
   },
   "outputs": [],
   "source": [
    "X = np.ones(shape=(train_X_feat.shape[0],1))"
   ]
  },
  {
   "cell_type": "code",
   "execution_count": 22,
   "id": "7f998da4",
   "metadata": {
    "pycharm": {
     "name": "#%%\n"
    }
   },
   "outputs": [
    {
     "data": {
      "text/plain": [
       "array([[  1.  ,  84.72,  19.2 ,  48.96],\n",
       "       [  1.  , 351.48,  33.96,  51.84],\n",
       "       [  1.  , 135.48,  20.88,  46.32],\n",
       "       [  1.  , 116.64,   1.8 ,  36.  ],\n",
       "       [  1.  , 318.72,  24.  ,   0.36],\n",
       "       [  1.  , 114.84,   1.68,   8.88],\n",
       "       [  1.  , 348.84,   4.92,  10.2 ],\n",
       "       [  1.  , 320.28,  52.56,   6.  ],\n",
       "       [  1.  ,  89.64,  59.28,  54.84],\n",
       "       [  1.  ,  51.72,  32.04,  42.12],\n",
       "       [  1.  , 273.6 ,  45.24,  38.4 ],\n",
       "       [  1.  , 243.  ,  26.76,  37.92],\n",
       "       [  1.  , 212.4 ,  40.08,  46.44],\n",
       "       [  1.  , 352.32,  33.24,   2.16],\n",
       "       [  1.  , 248.28,  10.08,  31.68],\n",
       "       [  1.  ,  30.12,  30.84,  51.96],\n",
       "       [  1.  , 210.12,  27.  ,  37.8 ],\n",
       "       [  1.  , 107.64,  11.88,  42.84],\n",
       "       [  1.  , 287.88,  49.8 ,  22.2 ],\n",
       "       [  1.  , 272.64,  18.96,  59.88],\n",
       "       [  1.  ,  80.28,  14.04,  44.16],\n",
       "       [  1.  , 239.76,   3.72,  41.52],\n",
       "       [  1.  , 120.48,  11.52,   4.32],\n",
       "       [  1.  , 259.68,  50.04,  47.52],\n",
       "       [  1.  , 219.12,  55.44,  70.44],\n",
       "       [  1.  , 315.24,  34.56,  19.08],\n",
       "       [  1.  , 238.68,  59.28,  72.  ],\n",
       "       [  1.  ,   8.76,  33.72,  49.68],\n",
       "       [  1.  , 163.44,  23.04,  19.92],\n",
       "       [  1.  , 252.96,  59.52,  45.24],\n",
       "       [  1.  , 252.84,  35.4 ,  11.16],\n",
       "       [  1.  ,  64.2 ,   2.4 ,  25.68],\n",
       "       [  1.  , 313.56,  51.24,  65.64],\n",
       "       [  1.  , 287.16,  18.6 ,  32.76],\n",
       "       [  1.  , 123.24,  35.52,  10.08],\n",
       "       [  1.  , 157.32,  51.36,  34.68],\n",
       "       [  1.  ,  82.8 ,  11.16,   1.08],\n",
       "       [  1.  ,  37.8 ,  29.52,   2.64],\n",
       "       [  1.  , 167.16,  17.4 ,  12.24],\n",
       "       [  1.  , 284.88,  33.  ,  13.2 ],\n",
       "       [  1.  , 260.16,  52.68,  32.64],\n",
       "       [  1.  , 238.92,  36.72,  46.44],\n",
       "       [  1.  , 131.76,  17.16,  38.04],\n",
       "       [  1.  ,  32.16,  39.6 ,  23.16],\n",
       "       [  1.  , 155.28,   6.84,  37.56],\n",
       "       [  1.  , 256.08,  29.52,  15.72],\n",
       "       [  1.  ,  20.28,  52.44, 107.28],\n",
       "       [  1.  ,  33.  ,   1.92,  24.84],\n",
       "       [  1.  , 144.6 ,  34.2 ,  17.04],\n",
       "       [  1.  ,   6.48,  35.88,  11.28],\n",
       "       [  1.  , 139.2 ,   9.24,  27.72],\n",
       "       [  1.  ,  91.68,  32.04,  26.76],\n",
       "       [  1.  , 287.76,   4.92,  44.28],\n",
       "       [  1.  ,  90.36,  24.36,  39.  ],\n",
       "       [  1.  ,  82.08,  53.4 ,  42.72],\n",
       "       [  1.  , 256.2 ,  51.6 ,  40.56],\n",
       "       [  1.  , 231.84,  22.08,  78.84],\n",
       "       [  1.  ,  91.56,  33.  ,  19.2 ],\n",
       "       [  1.  , 132.84,  48.72,  75.84],\n",
       "       [  1.  , 105.96,  30.6 ,  88.08],\n",
       "       [  1.  , 131.76,  57.36,  61.68],\n",
       "       [  1.  , 161.16,   5.88,  11.16],\n",
       "       [  1.  ,  34.32,   1.8 ,  39.6 ],\n",
       "       [  1.  , 261.24,  40.2 ,  70.8 ],\n",
       "       [  1.  , 301.08,  43.8 ,  86.76],\n",
       "       [  1.  , 128.88,  16.8 ,  13.08],\n",
       "       [  1.  , 195.96,  37.92,  63.48],\n",
       "       [  1.  , 237.12,   4.2 ,   7.08],\n",
       "       [  1.  , 221.88,  25.2 ,  26.4 ],\n",
       "       [  1.  , 347.64,  50.76,  61.44],\n",
       "       [  1.  , 162.24,  50.04,  55.08],\n",
       "       [  1.  , 266.88,   5.16,  59.76],\n",
       "       [  1.  , 355.68,  43.56, 121.08],\n",
       "       [  1.  , 336.24,  12.12,  25.68],\n",
       "       [  1.  , 225.48,  20.64,  21.48],\n",
       "       [  1.  , 285.84,  41.16,   6.36],\n",
       "       [  1.  , 165.48,  55.68,  70.8 ],\n",
       "       [  1.  ,  30.  ,  13.2 ,  35.64],\n",
       "       [  1.  , 108.48,   0.36,  27.84],\n",
       "       [  1.  ,  15.72,   0.48,  30.72],\n",
       "       [  1.  , 306.48,  32.28,   6.6 ],\n",
       "       [  1.  , 270.96,   9.84,  67.8 ],\n",
       "       [  1.  , 290.04,  45.6 ,  27.84],\n",
       "       [  1.  , 210.84,  18.48,   2.88],\n",
       "       [  1.  , 251.52,  24.72,  12.84],\n",
       "       [  1.  ,  93.84,  56.16,  41.4 ],\n",
       "       [  1.  ,  90.12,  42.  ,  63.24],\n",
       "       [  1.  , 167.04,  17.16,  30.72],\n",
       "       [  1.  ,  91.68,   0.96,  17.76],\n",
       "       [  1.  , 150.84,  44.28,  95.04],\n",
       "       [  1.  ,  23.28,  19.2 ,  26.76],\n",
       "       [  1.  , 169.56,  32.16,  55.44],\n",
       "       [  1.  ,  22.56,  26.04,  60.48],\n",
       "       [  1.  , 268.8 ,   2.88,  18.72],\n",
       "       [  1.  , 147.72,  41.52,  14.88],\n",
       "       [  1.  , 275.4 ,  38.76,  89.04],\n",
       "       [  1.  , 104.64,  14.16,  31.08],\n",
       "       [  1.  ,   9.36,  46.68,  60.72],\n",
       "       [  1.  ,  96.24,   0.  ,  11.04],\n",
       "       [  1.  , 264.36,  58.8 ,   3.84],\n",
       "       [  1.  ,  71.52,  14.4 ,  51.72],\n",
       "       [  1.  ,   0.84,  47.52,  10.44],\n",
       "       [  1.  , 318.24,   3.48,  51.6 ],\n",
       "       [  1.  ,  10.08,  32.64,   2.52],\n",
       "       [  1.  , 263.76,  40.2 ,  54.12],\n",
       "       [  1.  ,  44.28,  46.32,  78.72],\n",
       "       [  1.  ,  57.96,  56.4 ,  10.2 ],\n",
       "       [  1.  ,  30.72,  46.8 ,  11.16],\n",
       "       [  1.  , 328.44,  34.68,  71.64],\n",
       "       [  1.  ,  51.6 ,  31.08,  24.6 ],\n",
       "       [  1.  , 221.88,  52.68,   2.04],\n",
       "       [  1.  ,  88.08,  20.4 ,  15.48],\n",
       "       [  1.  , 232.44,  42.48,  90.72],\n",
       "       [  1.  , 264.6 ,  39.84,  45.48],\n",
       "       [  1.  , 125.52,   6.84,  41.28],\n",
       "       [  1.  , 115.44,  17.76,  46.68],\n",
       "       [  1.  , 168.36,   2.28,  10.8 ],\n",
       "       [  1.  , 288.12,   8.76,  10.44],\n",
       "       [  1.  , 291.84,  58.8 ,  53.16],\n",
       "       [  1.  ,  45.6 ,  48.36,  14.28],\n",
       "       [  1.  ,  53.64,  30.96,  24.72],\n",
       "       [  1.  , 336.84,  16.68,  44.4 ],\n",
       "       [  1.  , 145.2 ,  10.08,  58.44],\n",
       "       [  1.  , 237.12,  27.96,  17.04],\n",
       "       [  1.  , 205.56,  47.64,  45.24],\n",
       "       [  1.  , 225.36,  25.32,  11.4 ],\n",
       "       [  1.  ,   4.92,  13.92,   6.84],\n",
       "       [  1.  , 112.68,  52.2 ,  60.6 ],\n",
       "       [  1.  , 179.76,   1.56,  29.16],\n",
       "       [  1.  ,  14.04,  44.28,  54.24],\n",
       "       [  1.  , 158.04,  22.08,  41.52],\n",
       "       [  1.  , 207.  ,  21.72,  36.84],\n",
       "       [  1.  , 102.84,  42.96,  59.16],\n",
       "       [  1.  , 226.08,  21.72,  30.72],\n",
       "       [  1.  , 196.2 ,  44.16,   8.88],\n",
       "       [  1.  , 140.64,  17.64,   6.48],\n",
       "       [  1.  , 281.4 ,   4.08, 101.76],\n",
       "       [  1.  ,  21.48,  45.12,  25.92],\n",
       "       [  1.  , 248.16,   6.24,  23.28],\n",
       "       [  1.  , 258.48,  28.32,  69.12],\n",
       "       [  1.  , 341.16,  12.72,   7.68],\n",
       "       [  1.  ,  60.  ,  13.92,  22.08],\n",
       "       [  1.  , 197.4 ,  25.08,  56.88],\n",
       "       [  1.  ,  23.52,  24.12,  20.4 ],\n",
       "       [  1.  , 202.08,   8.52,  15.36],\n",
       "       [  1.  , 266.88,   4.08,  15.72],\n",
       "       [  1.  , 332.28,  58.68,  50.16],\n",
       "       [  1.  , 298.08,  36.24,  24.36],\n",
       "       [  1.  , 204.24,   9.36,  42.24],\n",
       "       [  1.  , 332.04,   2.76,  28.44],\n",
       "       [  1.  , 198.72,  12.  ,  21.12],\n",
       "       [  1.  , 187.92,   3.12,   9.96],\n",
       "       [  1.  , 262.2 ,   6.48,  32.88],\n",
       "       [  1.  ,  67.44,   6.84,  35.64],\n",
       "       [  1.  , 345.12,  51.6 ,  86.16],\n",
       "       [  1.  , 304.56,  25.56,  36.  ],\n",
       "       [  1.  , 246.  ,  54.12,  23.52],\n",
       "       [  1.  , 167.4 ,   2.52,  31.92],\n",
       "       [  1.  , 229.32,  34.44,  21.84],\n",
       "       [  1.  , 343.2 ,  16.68,   4.44]])"
      ]
     },
     "execution_count": 22,
     "metadata": {},
     "output_type": "execute_result"
    }
   ],
   "source": [
    "transform_X_feat = np.hstack((X,train_X_feat))\n",
    "transform_X_feat"
   ]
  },
  {
   "cell_type": "code",
   "execution_count": 23,
   "id": "5948716e",
   "metadata": {
    "scrolled": true,
    "pycharm": {
     "name": "#%%\n"
    }
   },
   "outputs": [
    {
     "data": {
      "text/plain": [
       "array([[  1.  ,   1.  ,   1.  ,   1.  ,   1.  ,   1.  ,   1.  ,   1.  ,\n",
       "          1.  ,   1.  ,   1.  ,   1.  ,   1.  ,   1.  ,   1.  ,   1.  ,\n",
       "          1.  ,   1.  ,   1.  ,   1.  ,   1.  ,   1.  ,   1.  ,   1.  ,\n",
       "          1.  ,   1.  ,   1.  ,   1.  ,   1.  ,   1.  ,   1.  ,   1.  ,\n",
       "          1.  ,   1.  ,   1.  ,   1.  ,   1.  ,   1.  ,   1.  ,   1.  ,\n",
       "          1.  ,   1.  ,   1.  ,   1.  ,   1.  ,   1.  ,   1.  ,   1.  ,\n",
       "          1.  ,   1.  ,   1.  ,   1.  ,   1.  ,   1.  ,   1.  ,   1.  ,\n",
       "          1.  ,   1.  ,   1.  ,   1.  ,   1.  ,   1.  ,   1.  ,   1.  ,\n",
       "          1.  ,   1.  ,   1.  ,   1.  ,   1.  ,   1.  ,   1.  ,   1.  ,\n",
       "          1.  ,   1.  ,   1.  ,   1.  ,   1.  ,   1.  ,   1.  ,   1.  ,\n",
       "          1.  ,   1.  ,   1.  ,   1.  ,   1.  ,   1.  ,   1.  ,   1.  ,\n",
       "          1.  ,   1.  ,   1.  ,   1.  ,   1.  ,   1.  ,   1.  ,   1.  ,\n",
       "          1.  ,   1.  ,   1.  ,   1.  ,   1.  ,   1.  ,   1.  ,   1.  ,\n",
       "          1.  ,   1.  ,   1.  ,   1.  ,   1.  ,   1.  ,   1.  ,   1.  ,\n",
       "          1.  ,   1.  ,   1.  ,   1.  ,   1.  ,   1.  ,   1.  ,   1.  ,\n",
       "          1.  ,   1.  ,   1.  ,   1.  ,   1.  ,   1.  ,   1.  ,   1.  ,\n",
       "          1.  ,   1.  ,   1.  ,   1.  ,   1.  ,   1.  ,   1.  ,   1.  ,\n",
       "          1.  ,   1.  ,   1.  ,   1.  ,   1.  ,   1.  ,   1.  ,   1.  ,\n",
       "          1.  ,   1.  ,   1.  ,   1.  ,   1.  ,   1.  ,   1.  ,   1.  ,\n",
       "          1.  ,   1.  ,   1.  ,   1.  ,   1.  ,   1.  ,   1.  ,   1.  ],\n",
       "       [ 84.72, 351.48, 135.48, 116.64, 318.72, 114.84, 348.84, 320.28,\n",
       "         89.64,  51.72, 273.6 , 243.  , 212.4 , 352.32, 248.28,  30.12,\n",
       "        210.12, 107.64, 287.88, 272.64,  80.28, 239.76, 120.48, 259.68,\n",
       "        219.12, 315.24, 238.68,   8.76, 163.44, 252.96, 252.84,  64.2 ,\n",
       "        313.56, 287.16, 123.24, 157.32,  82.8 ,  37.8 , 167.16, 284.88,\n",
       "        260.16, 238.92, 131.76,  32.16, 155.28, 256.08,  20.28,  33.  ,\n",
       "        144.6 ,   6.48, 139.2 ,  91.68, 287.76,  90.36,  82.08, 256.2 ,\n",
       "        231.84,  91.56, 132.84, 105.96, 131.76, 161.16,  34.32, 261.24,\n",
       "        301.08, 128.88, 195.96, 237.12, 221.88, 347.64, 162.24, 266.88,\n",
       "        355.68, 336.24, 225.48, 285.84, 165.48,  30.  , 108.48,  15.72,\n",
       "        306.48, 270.96, 290.04, 210.84, 251.52,  93.84,  90.12, 167.04,\n",
       "         91.68, 150.84,  23.28, 169.56,  22.56, 268.8 , 147.72, 275.4 ,\n",
       "        104.64,   9.36,  96.24, 264.36,  71.52,   0.84, 318.24,  10.08,\n",
       "        263.76,  44.28,  57.96,  30.72, 328.44,  51.6 , 221.88,  88.08,\n",
       "        232.44, 264.6 , 125.52, 115.44, 168.36, 288.12, 291.84,  45.6 ,\n",
       "         53.64, 336.84, 145.2 , 237.12, 205.56, 225.36,   4.92, 112.68,\n",
       "        179.76,  14.04, 158.04, 207.  , 102.84, 226.08, 196.2 , 140.64,\n",
       "        281.4 ,  21.48, 248.16, 258.48, 341.16,  60.  , 197.4 ,  23.52,\n",
       "        202.08, 266.88, 332.28, 298.08, 204.24, 332.04, 198.72, 187.92,\n",
       "        262.2 ,  67.44, 345.12, 304.56, 246.  , 167.4 , 229.32, 343.2 ],\n",
       "       [ 19.2 ,  33.96,  20.88,   1.8 ,  24.  ,   1.68,   4.92,  52.56,\n",
       "         59.28,  32.04,  45.24,  26.76,  40.08,  33.24,  10.08,  30.84,\n",
       "         27.  ,  11.88,  49.8 ,  18.96,  14.04,   3.72,  11.52,  50.04,\n",
       "         55.44,  34.56,  59.28,  33.72,  23.04,  59.52,  35.4 ,   2.4 ,\n",
       "         51.24,  18.6 ,  35.52,  51.36,  11.16,  29.52,  17.4 ,  33.  ,\n",
       "         52.68,  36.72,  17.16,  39.6 ,   6.84,  29.52,  52.44,   1.92,\n",
       "         34.2 ,  35.88,   9.24,  32.04,   4.92,  24.36,  53.4 ,  51.6 ,\n",
       "         22.08,  33.  ,  48.72,  30.6 ,  57.36,   5.88,   1.8 ,  40.2 ,\n",
       "         43.8 ,  16.8 ,  37.92,   4.2 ,  25.2 ,  50.76,  50.04,   5.16,\n",
       "         43.56,  12.12,  20.64,  41.16,  55.68,  13.2 ,   0.36,   0.48,\n",
       "         32.28,   9.84,  45.6 ,  18.48,  24.72,  56.16,  42.  ,  17.16,\n",
       "          0.96,  44.28,  19.2 ,  32.16,  26.04,   2.88,  41.52,  38.76,\n",
       "         14.16,  46.68,   0.  ,  58.8 ,  14.4 ,  47.52,   3.48,  32.64,\n",
       "         40.2 ,  46.32,  56.4 ,  46.8 ,  34.68,  31.08,  52.68,  20.4 ,\n",
       "         42.48,  39.84,   6.84,  17.76,   2.28,   8.76,  58.8 ,  48.36,\n",
       "         30.96,  16.68,  10.08,  27.96,  47.64,  25.32,  13.92,  52.2 ,\n",
       "          1.56,  44.28,  22.08,  21.72,  42.96,  21.72,  44.16,  17.64,\n",
       "          4.08,  45.12,   6.24,  28.32,  12.72,  13.92,  25.08,  24.12,\n",
       "          8.52,   4.08,  58.68,  36.24,   9.36,   2.76,  12.  ,   3.12,\n",
       "          6.48,   6.84,  51.6 ,  25.56,  54.12,   2.52,  34.44,  16.68],\n",
       "       [ 48.96,  51.84,  46.32,  36.  ,   0.36,   8.88,  10.2 ,   6.  ,\n",
       "         54.84,  42.12,  38.4 ,  37.92,  46.44,   2.16,  31.68,  51.96,\n",
       "         37.8 ,  42.84,  22.2 ,  59.88,  44.16,  41.52,   4.32,  47.52,\n",
       "         70.44,  19.08,  72.  ,  49.68,  19.92,  45.24,  11.16,  25.68,\n",
       "         65.64,  32.76,  10.08,  34.68,   1.08,   2.64,  12.24,  13.2 ,\n",
       "         32.64,  46.44,  38.04,  23.16,  37.56,  15.72, 107.28,  24.84,\n",
       "         17.04,  11.28,  27.72,  26.76,  44.28,  39.  ,  42.72,  40.56,\n",
       "         78.84,  19.2 ,  75.84,  88.08,  61.68,  11.16,  39.6 ,  70.8 ,\n",
       "         86.76,  13.08,  63.48,   7.08,  26.4 ,  61.44,  55.08,  59.76,\n",
       "        121.08,  25.68,  21.48,   6.36,  70.8 ,  35.64,  27.84,  30.72,\n",
       "          6.6 ,  67.8 ,  27.84,   2.88,  12.84,  41.4 ,  63.24,  30.72,\n",
       "         17.76,  95.04,  26.76,  55.44,  60.48,  18.72,  14.88,  89.04,\n",
       "         31.08,  60.72,  11.04,   3.84,  51.72,  10.44,  51.6 ,   2.52,\n",
       "         54.12,  78.72,  10.2 ,  11.16,  71.64,  24.6 ,   2.04,  15.48,\n",
       "         90.72,  45.48,  41.28,  46.68,  10.8 ,  10.44,  53.16,  14.28,\n",
       "         24.72,  44.4 ,  58.44,  17.04,  45.24,  11.4 ,   6.84,  60.6 ,\n",
       "         29.16,  54.24,  41.52,  36.84,  59.16,  30.72,   8.88,   6.48,\n",
       "        101.76,  25.92,  23.28,  69.12,   7.68,  22.08,  56.88,  20.4 ,\n",
       "         15.36,  15.72,  50.16,  24.36,  42.24,  28.44,  21.12,   9.96,\n",
       "         32.88,  35.64,  86.16,  36.  ,  23.52,  31.92,  21.84,   4.44]])"
      ]
     },
     "execution_count": 23,
     "metadata": {},
     "output_type": "execute_result"
    }
   ],
   "source": [
    "transpose_X = np.transpose(transform_X_feat ,axes = None)\n",
    "transpose_X"
   ]
  },
  {
   "cell_type": "code",
   "execution_count": 24,
   "id": "2f2225b5",
   "metadata": {
    "pycharm": {
     "name": "#%%\n"
    }
   },
   "outputs": [
    {
     "data": {
      "text/plain": [
       "array([[1.60000000e+02, 2.88906000e+04, 4.47480000e+03, 5.81052000e+03],\n",
       "       [2.88906000e+04, 6.86644864e+06, 8.24399582e+05, 1.08281557e+06],\n",
       "       [4.47480000e+03, 8.24399582e+05, 1.75463453e+05, 1.83118421e+05],\n",
       "       [5.81052000e+03, 1.08281557e+06, 1.83118421e+05, 3.08539454e+05]])"
      ]
     },
     "execution_count": 24,
     "metadata": {},
     "output_type": "execute_result"
    }
   ],
   "source": [
    "X_transform_X = np.dot(transpose_X , transform_X_feat)\n",
    "X_transform_X"
   ]
  },
  {
   "cell_type": "code",
   "execution_count": 25,
   "id": "6db09fd2",
   "metadata": {
    "pycharm": {
     "name": "#%%\n"
    }
   },
   "outputs": [
    {
     "data": {
      "text/plain": [
       "array([[ 4.51573706e-02, -1.00188845e-04, -4.21273964e-04,\n",
       "        -2.48780956e-04],\n",
       "       [-1.00188845e-04,  6.11133324e-07, -1.23581470e-07,\n",
       "        -1.84629065e-07],\n",
       "       [-4.21273964e-04, -1.23581470e-07,  2.17840497e-05,\n",
       "        -4.56156914e-06],\n",
       "       [-2.48780956e-04, -1.84629065e-07, -4.56156914e-06,\n",
       "         1.12814528e-05]])"
      ]
     },
     "execution_count": 25,
     "metadata": {},
     "output_type": "execute_result"
    }
   ],
   "source": [
    "resultant_XtX = np.linalg.inv(X_transform_X)\n",
    "resultant_XtX"
   ]
  },
  {
   "cell_type": "code",
   "execution_count": 26,
   "id": "8f22a75a",
   "metadata": {
    "pycharm": {
     "name": "#%%\n"
    }
   },
   "outputs": [
    {
     "data": {
      "text/plain": [
       "array([[  2726.76  ],\n",
       "       [570820.392 ],\n",
       "       [ 86664.5136],\n",
       "       [104892.12  ]])"
      ]
     },
     "execution_count": 26,
     "metadata": {},
     "output_type": "execute_result"
    }
   ],
   "source": [
    "X_transpose_y = np.dot(transpose_X,train_y_feat)\n",
    "X_transpose_y"
   ]
  },
  {
   "cell_type": "code",
   "execution_count": 27,
   "id": "ad48f7a3",
   "metadata": {
    "pycharm": {
     "name": "#%%\n"
    }
   },
   "outputs": [],
   "source": [
    "B_katsayilari = np.dot(resultant_XtX,X_transpose_y)"
   ]
  },
  {
   "cell_type": "code",
   "execution_count": 28,
   "id": "2786e297",
   "metadata": {
    "scrolled": false,
    "pycharm": {
     "name": "#%%\n"
    }
   },
   "outputs": [
    {
     "name": "stdout",
     "output_type": "stream",
     "text": [
      "[[3.33881109]\n",
      " [0.04558017]\n",
      " [0.1901756 ]\n",
      " [0.00425333]]\n"
     ]
    }
   ],
   "source": [
    "print(B_katsayilari)"
   ]
  },
  {
   "cell_type": "code",
   "execution_count": 29,
   "id": "2ec8f80f",
   "metadata": {
    "pycharm": {
     "name": "#%%\n"
    }
   },
   "outputs": [],
   "source": [
    "B0_katsayi = B_katsayilari[0]"
   ]
  },
  {
   "cell_type": "code",
   "execution_count": 30,
   "id": "32a34f6d",
   "metadata": {
    "scrolled": false,
    "pycharm": {
     "name": "#%%\n"
    }
   },
   "outputs": [
    {
     "name": "stdout",
     "output_type": "stream",
     "text": [
      "B0 katsayisi : [3.33881109]\n"
     ]
    }
   ],
   "source": [
    " print(\"B0 katsayisi :\" , B0_katsayi)"
   ]
  },
  {
   "cell_type": "code",
   "execution_count": 31,
   "id": "8adfa012",
   "metadata": {
    "pycharm": {
     "name": "#%%\n"
    }
   },
   "outputs": [],
   "source": [
    "bn_katsayi = B_katsayilari[[1,2,3]]"
   ]
  },
  {
   "cell_type": "code",
   "execution_count": 32,
   "id": "162b4121",
   "metadata": {
    "pycharm": {
     "name": "#%%\n"
    }
   },
   "outputs": [],
   "source": [
    "data = pd.read_csv(\"C:/Users/can/Desktop/Marketing_Data.csv\")\n",
    "df = data.copy()"
   ]
  },
  {
   "cell_type": "code",
   "execution_count": 33,
   "id": "9d8b64ca",
   "metadata": {
    "pycharm": {
     "name": "#%%\n"
    }
   },
   "outputs": [],
   "source": [
    "X = df.drop(df[[\"sales\"]],axis=1)\n",
    "y = df[[\"sales\"]]"
   ]
  },
  {
   "cell_type": "code",
   "execution_count": 34,
   "id": "36d67bd1",
   "metadata": {
    "scrolled": true,
    "pycharm": {
     "name": "#%%\n"
    }
   },
   "outputs": [],
   "source": [
    "coef_MLR = pd.DataFrame(bn_katsayi,X.columns,columns=[\"Parametreler\"])"
   ]
  },
  {
   "cell_type": "code",
   "execution_count": 35,
   "id": "fd77d82e",
   "metadata": {
    "pycharm": {
     "name": "#%%\n"
    }
   },
   "outputs": [
    {
     "data": {
      "text/html": [
       "<div>\n",
       "<style scoped>\n",
       "    .dataframe tbody tr th:only-of-type {\n",
       "        vertical-align: middle;\n",
       "    }\n",
       "\n",
       "    .dataframe tbody tr th {\n",
       "        vertical-align: top;\n",
       "    }\n",
       "\n",
       "    .dataframe thead th {\n",
       "        text-align: right;\n",
       "    }\n",
       "</style>\n",
       "<table border=\"1\" class=\"dataframe\">\n",
       "  <thead>\n",
       "    <tr style=\"text-align: right;\">\n",
       "      <th></th>\n",
       "      <th>Parametreler</th>\n",
       "    </tr>\n",
       "  </thead>\n",
       "  <tbody>\n",
       "    <tr>\n",
       "      <th>youtube</th>\n",
       "      <td>0.045580</td>\n",
       "    </tr>\n",
       "    <tr>\n",
       "      <th>facebook</th>\n",
       "      <td>0.190176</td>\n",
       "    </tr>\n",
       "    <tr>\n",
       "      <th>newspaper</th>\n",
       "      <td>0.004253</td>\n",
       "    </tr>\n",
       "  </tbody>\n",
       "</table>\n",
       "</div>"
      ],
      "text/plain": [
       "           Parametreler\n",
       "youtube        0.045580\n",
       "facebook       0.190176\n",
       "newspaper      0.004253"
      ]
     },
     "execution_count": 35,
     "metadata": {},
     "output_type": "execute_result"
    }
   ],
   "source": [
    "coef_MLR"
   ]
  },
  {
   "cell_type": "markdown",
   "id": "35d8b919",
   "metadata": {
    "pycharm": {
     "name": "#%% md\n"
    }
   },
   "source": [
    "<h1 style=\"background-color:#3b5998;font-family:newtimeroman;font-size:250%;text-align:left;color:#FFFFFF\">Model\n",
    "</h1>\n",
    "\n",
    "\n",
    "\n",
    "\n",
    "\n",
    "\n",
    "<h1 style=\"background-color:#3b5998;font-family:newtimeroman;font-size:200%;text-align:center;color:#FFFFFF\">Y = 3.33881109 + 0.045580*Youtube +  0.190176*Facebook + 0.004253*Newspaper\n",
    "</h1>\n",
    "\n",
    "\n",
    "\n",
    "\n",
    "\n",
    " \n",
    "\n"
   ]
  },
  {
   "cell_type": "markdown",
   "id": "319324f8",
   "metadata": {
    "pycharm": {
     "name": "#%% md\n"
    }
   },
   "source": [
    "<h1 style=\"background-color:#3b5998;font-family:newtimeroman;font-size:250%;text-align:center;color:#FFFFFF\">Regresyon Anlamlılık Testi\n",
    "</h1>\n",
    "\n"
   ]
  },
  {
   "cell_type": "code",
   "execution_count": 36,
   "id": "89dd7a77",
   "metadata": {
    "scrolled": false,
    "pycharm": {
     "name": "#%%\n"
    }
   },
   "outputs": [
    {
     "data": {
      "text/html": [
       "<table class=\"simpletable\">\n",
       "<caption>OLS Regression Results</caption>\n",
       "<tr>\n",
       "  <th>Dep. Variable:</th>          <td>sales</td>      <th>  R-squared:         </th> <td>   0.900</td>\n",
       "</tr>\n",
       "<tr>\n",
       "  <th>Model:</th>                   <td>OLS</td>       <th>  Adj. R-squared:    </th> <td>   0.899</td>\n",
       "</tr>\n",
       "<tr>\n",
       "  <th>Method:</th>             <td>Least Squares</td>  <th>  F-statistic:       </th> <td>   503.7</td>\n",
       "</tr>\n",
       "<tr>\n",
       "  <th>Date:</th>             <td>Fri, 30 Dec 2022</td> <th>  Prob (F-statistic):</th> <td>2.09e-83</td>\n",
       "</tr>\n",
       "<tr>\n",
       "  <th>Time:</th>                 <td>22:37:13</td>     <th>  Log-Likelihood:    </th> <td> -359.99</td>\n",
       "</tr>\n",
       "<tr>\n",
       "  <th>No. Observations:</th>      <td>   171</td>      <th>  AIC:               </th> <td>   728.0</td>\n",
       "</tr>\n",
       "<tr>\n",
       "  <th>Df Residuals:</th>          <td>   167</td>      <th>  BIC:               </th> <td>   740.5</td>\n",
       "</tr>\n",
       "<tr>\n",
       "  <th>Df Model:</th>              <td>     3</td>      <th>                     </th>     <td> </td>   \n",
       "</tr>\n",
       "<tr>\n",
       "  <th>Covariance Type:</th>      <td>nonrobust</td>    <th>                     </th>     <td> </td>   \n",
       "</tr>\n",
       "</table>\n",
       "<table class=\"simpletable\">\n",
       "<tr>\n",
       "      <td></td>         <th>coef</th>     <th>std err</th>      <th>t</th>      <th>P>|t|</th>  <th>[0.025</th>    <th>0.975]</th>  \n",
       "</tr>\n",
       "<tr>\n",
       "  <th>const</th>     <td>    3.5059</td> <td>    0.400</td> <td>    8.772</td> <td> 0.000</td> <td>    2.717</td> <td>    4.295</td>\n",
       "</tr>\n",
       "<tr>\n",
       "  <th>youtube</th>   <td>    0.0452</td> <td>    0.002</td> <td>   29.830</td> <td> 0.000</td> <td>    0.042</td> <td>    0.048</td>\n",
       "</tr>\n",
       "<tr>\n",
       "  <th>facebook</th>  <td>    0.1884</td> <td>    0.009</td> <td>   20.895</td> <td> 0.000</td> <td>    0.171</td> <td>    0.206</td>\n",
       "</tr>\n",
       "<tr>\n",
       "  <th>newspaper</th> <td>    0.0043</td> <td>    0.007</td> <td>    0.658</td> <td> 0.511</td> <td>   -0.009</td> <td>    0.017</td>\n",
       "</tr>\n",
       "</table>\n",
       "<table class=\"simpletable\">\n",
       "<tr>\n",
       "  <th>Omnibus:</th>       <td>57.934</td> <th>  Durbin-Watson:     </th> <td>   2.065</td>\n",
       "</tr>\n",
       "<tr>\n",
       "  <th>Prob(Omnibus):</th> <td> 0.000</td> <th>  Jarque-Bera (JB):  </th> <td> 162.792</td>\n",
       "</tr>\n",
       "<tr>\n",
       "  <th>Skew:</th>          <td>-1.388</td> <th>  Prob(JB):          </th> <td>4.47e-36</td>\n",
       "</tr>\n",
       "<tr>\n",
       "  <th>Kurtosis:</th>      <td> 6.891</td> <th>  Cond. No.          </th> <td>    544.</td>\n",
       "</tr>\n",
       "</table><br/><br/>Notes:<br/>[1] Standard Errors assume that the covariance matrix of the errors is correctly specified."
      ],
      "text/plain": [
       "<class 'statsmodels.iolib.summary.Summary'>\n",
       "\"\"\"\n",
       "                            OLS Regression Results                            \n",
       "==============================================================================\n",
       "Dep. Variable:                  sales   R-squared:                       0.900\n",
       "Model:                            OLS   Adj. R-squared:                  0.899\n",
       "Method:                 Least Squares   F-statistic:                     503.7\n",
       "Date:                Fri, 30 Dec 2022   Prob (F-statistic):           2.09e-83\n",
       "Time:                        22:37:13   Log-Likelihood:                -359.99\n",
       "No. Observations:                 171   AIC:                             728.0\n",
       "Df Residuals:                     167   BIC:                             740.5\n",
       "Df Model:                           3                                         \n",
       "Covariance Type:            nonrobust                                         \n",
       "==============================================================================\n",
       "                 coef    std err          t      P>|t|      [0.025      0.975]\n",
       "------------------------------------------------------------------------------\n",
       "const          3.5059      0.400      8.772      0.000       2.717       4.295\n",
       "youtube        0.0452      0.002     29.830      0.000       0.042       0.048\n",
       "facebook       0.1884      0.009     20.895      0.000       0.171       0.206\n",
       "newspaper      0.0043      0.007      0.658      0.511      -0.009       0.017\n",
       "==============================================================================\n",
       "Omnibus:                       57.934   Durbin-Watson:                   2.065\n",
       "Prob(Omnibus):                  0.000   Jarque-Bera (JB):              162.792\n",
       "Skew:                          -1.388   Prob(JB):                     4.47e-36\n",
       "Kurtosis:                       6.891   Cond. No.                         544.\n",
       "==============================================================================\n",
       "\n",
       "Notes:\n",
       "[1] Standard Errors assume that the covariance matrix of the errors is correctly specified.\n",
       "\"\"\""
      ]
     },
     "execution_count": 36,
     "metadata": {},
     "output_type": "execute_result"
    }
   ],
   "source": [
    "import statsmodels.api as sm\n",
    "X_c = sm.add_constant(X) \n",
    "LR_OLS = sm.OLS(y,X_c)\n",
    "LR_OLS_results = LR_OLS.fit()\n",
    "LR_OLS_results.summary()"
   ]
  },
  {
   "cell_type": "markdown",
   "id": "4086b259",
   "metadata": {
    "pycharm": {
     "name": "#%% md\n"
    }
   },
   "source": [
    "<h1 style=\"background-color:#3b5998;font-family:newtimeroman;font-size:200%;text-align:left;color:#FFFFFF\">Prob(F-statics) 0.05'den küçük olduğu için model anlamlıdır\n",
    "</h1>"
   ]
  },
  {
   "cell_type": "markdown",
   "id": "93f8653e",
   "metadata": {
    "pycharm": {
     "name": "#%% md\n"
    }
   },
   "source": [
    "<h1 style=\"background-color:#3b5998;font-family:newtimeroman;font-size:200%;text-align:left;color:#FFFFFF\"> Modelin açıklanma katsayısının %90 olduğu söylenebilir.\n",
    "</h1>"
   ]
  },
  {
   "cell_type": "markdown",
   "id": "1931578c",
   "metadata": {
    "pycharm": {
     "name": "#%% md\n"
    }
   },
   "source": [
    "<h1 style=\"background-color:#3b5998;font-family:newtimeroman;font-size:200%;text-align:left;color:#FFFFFF\"> Youtube'un p-value değeri 0.05'den küçük olduğu için model için anlamlıdır.\n",
    "</h1>"
   ]
  },
  {
   "cell_type": "markdown",
   "id": "acf882e3",
   "metadata": {
    "pycharm": {
     "name": "#%% md\n"
    }
   },
   "source": [
    "<h1 style=\"background-color:#3b5998;font-family:newtimeroman;font-size:200%;text-align:left;color:#FFFFFF\">Facebook'un p-value değeri 0.05'den küçük olduğu için model için anlamlıdır.\n",
    "</h1>"
   ]
  },
  {
   "cell_type": "markdown",
   "id": "8794ae8c",
   "metadata": {
    "pycharm": {
     "name": "#%% md\n"
    }
   },
   "source": [
    "<h1 style=\"background-color:#3b5998;font-family:newtimeroman;font-size:200%;text-align:left;color:#FFFFFF\"> Newspaper'in p-value değeri 0.05'den büyük olduğu için model için anlamlı değildir\n",
    "</h1>\n"
   ]
  },
  {
   "cell_type": "markdown",
   "id": "54810dff",
   "metadata": {
    "pycharm": {
     "name": "#%% md\n"
    }
   },
   "source": [
    "<h1 style=\"background-color:#3b5998;font-family:newtimeroman;font-size:200%;text-align:left;color:#FFFFFF\">Prob(Omnibus) 0.05'den küçük olduğu için hatalar normal dağılımlı değildir.\n",
    "</h1>"
   ]
  },
  {
   "cell_type": "markdown",
   "id": "b2abbb97",
   "metadata": {
    "pycharm": {
     "name": "#%% md\n"
    }
   },
   "source": [
    "<h1 style=\"background-color:#3b5998;font-family:newtimeroman;font-size:200%;text-align:left;color:#FFFFFF\">Skew değeri -1.388 olduğu için veri kümesi simetrik değildir.\n",
    "</h1>"
   ]
  },
  {
   "cell_type": "markdown",
   "id": "3811c187",
   "metadata": {
    "pycharm": {
     "name": "#%% md\n"
    }
   },
   "source": [
    "<h1 style=\"background-color:#3b5998;font-family:newtimeroman;font-size:250%;text-align:left;color:#FFFFFF\">Jargue-Bera Testi = Normallik testi gerçekleştirirken çarpıklık ve basıklık katsayılarından yararlanır . Çarpıklık değerimiz 0 , basıklık değeri de 3'den uzaklastıkca verilerimizin normal dağılma olasılıgı da azalacaktır.\n",
    "</h1>"
   ]
  },
  {
   "cell_type": "markdown",
   "id": "0eda99f5",
   "metadata": {
    "pycharm": {
     "name": "#%% md\n"
    }
   },
   "source": [
    "<h1 style=\"background-color:#3b5998;font-family:newtimeroman;font-size:200%;text-align:left;color:#FFFFFF\">H0: Dağılım normal , çarpıklığın 0 , basıklığın 3 olduğudur.\n"
   ]
  },
  {
   "cell_type": "markdown",
   "id": "53914e6b",
   "metadata": {
    "pycharm": {
     "name": "#%% md\n"
    }
   },
   "source": [
    "<h1 style=\"background-color:#3b5998;font-family:newtimeroman;font-size:200%;text-align:left;color:#FFFFFF\">P(JB) = 4.47e-36 0.05'DEN küçük olduğu için H0 reddedilir.\n"
   ]
  },
  {
   "cell_type": "markdown",
   "id": "7fab574a",
   "metadata": {
    "pycharm": {
     "name": "#%% md\n"
    }
   },
   "source": [
    "<h1 style=\"background-color:#3b5998;font-family:newtimeroman;font-size:200%;text-align:left;color:#FFFFFF\">Durbin WATSON 2 civarında olduğundan otokorelasyon yoktur."
   ]
  },
  {
   "cell_type": "markdown",
   "id": "0433a06f",
   "metadata": {
    "pycharm": {
     "name": "#%% md\n"
    }
   },
   "source": [
    "<h1 style=\"background-color:#3b5998;font-family:newtimeroman;font-size:200%;text-align:left;color:#FFFFFF\">Cond no : 30'dan büyük olduğu için çoklu bağlantıya sahip olabileceği kabul edilir."
   ]
  },
  {
   "cell_type": "markdown",
   "id": "1b498b22",
   "metadata": {
    "pycharm": {
     "name": "#%% md\n"
    }
   },
   "source": [
    "<h1 style=\"background-color:#3b5998;font-family:newtimeroman;font-size:200%;text-align:left;color:#FFFFFF\">Çoklu bağlantı problemi sorgulama :"
   ]
  },
  {
   "cell_type": "markdown",
   "id": "3ace299b",
   "metadata": {
    "pycharm": {
     "name": "#%% md\n"
    }
   },
   "source": [
    "<h1 style=\"background-color:#3b5998;font-family:newtimeroman;font-size:250%;text-align:left;color:#FFFFFF\">VIF = 1 / 1-Açıklanma katsayısı(R2)"
   ]
  },
  {
   "cell_type": "code",
   "execution_count": 37,
   "id": "1456b2c8",
   "metadata": {
    "pycharm": {
     "name": "#%%\n"
    }
   },
   "outputs": [
    {
     "data": {
      "text/html": [
       "<div>\n",
       "<style scoped>\n",
       "    .dataframe tbody tr th:only-of-type {\n",
       "        vertical-align: middle;\n",
       "    }\n",
       "\n",
       "    .dataframe tbody tr th {\n",
       "        vertical-align: top;\n",
       "    }\n",
       "\n",
       "    .dataframe thead th {\n",
       "        text-align: right;\n",
       "    }\n",
       "</style>\n",
       "<table border=\"1\" class=\"dataframe\">\n",
       "  <thead>\n",
       "    <tr style=\"text-align: right;\">\n",
       "      <th></th>\n",
       "      <th>VIF</th>\n",
       "      <th>Değişken</th>\n",
       "    </tr>\n",
       "  </thead>\n",
       "  <tbody>\n",
       "    <tr>\n",
       "      <th>0</th>\n",
       "      <td>2.679924</td>\n",
       "      <td>youtube</td>\n",
       "    </tr>\n",
       "    <tr>\n",
       "      <th>1</th>\n",
       "      <td>3.069419</td>\n",
       "      <td>facebook</td>\n",
       "    </tr>\n",
       "    <tr>\n",
       "      <th>2</th>\n",
       "      <td>2.954567</td>\n",
       "      <td>newspaper</td>\n",
       "    </tr>\n",
       "  </tbody>\n",
       "</table>\n",
       "</div>"
      ],
      "text/plain": [
       "        VIF   Değişken\n",
       "0  2.679924    youtube\n",
       "1  3.069419   facebook\n",
       "2  2.954567  newspaper"
      ]
     },
     "execution_count": 37,
     "metadata": {},
     "output_type": "execute_result"
    }
   ],
   "source": [
    "from statsmodels.stats.outliers_influence import variance_inflation_factor\n",
    "vif = pd.DataFrame()\n",
    "vif['VIF'] = [variance_inflation_factor(X.values, i) for i in range(X.shape[1])]\n",
    "vif['Değişken'] = X.columns\n",
    "vif\n"
   ]
  },
  {
   "cell_type": "markdown",
   "id": "def86eb2",
   "metadata": {
    "pycharm": {
     "name": "#%% md\n"
    }
   },
   "source": [
    "<h1 style=\"background-color:#3b5998;font-family:newtimeroman;font-size:200%;text-align:left;color:#FFFFFF\">VIF Değerleri 10'dan küçük olduğu için çoklu bağlantı problemi bulunmamaktadır."
   ]
  },
  {
   "cell_type": "markdown",
   "id": "bc623787",
   "metadata": {
    "pycharm": {
     "name": "#%% md\n"
    }
   },
   "source": [
    "<h1 style=\"background-color:#3b5998;font-family:newtimeroman;font-size:250%;text-align:left;color:#FFFFFF\">ANOVA"
   ]
  },
  {
   "cell_type": "code",
   "execution_count": 38,
   "id": "2254efbf",
   "metadata": {
    "pycharm": {
     "name": "#%%\n"
    }
   },
   "outputs": [],
   "source": [
    "model = ols(\"y ~ X\", df).fit()"
   ]
  },
  {
   "cell_type": "code",
   "execution_count": 39,
   "id": "c3a38622",
   "metadata": {
    "scrolled": false,
    "pycharm": {
     "name": "#%%\n"
    }
   },
   "outputs": [
    {
     "data": {
      "text/html": [
       "<div>\n",
       "<style scoped>\n",
       "    .dataframe tbody tr th:only-of-type {\n",
       "        vertical-align: middle;\n",
       "    }\n",
       "\n",
       "    .dataframe tbody tr th {\n",
       "        vertical-align: top;\n",
       "    }\n",
       "\n",
       "    .dataframe thead th {\n",
       "        text-align: right;\n",
       "    }\n",
       "</style>\n",
       "<table border=\"1\" class=\"dataframe\">\n",
       "  <thead>\n",
       "    <tr style=\"text-align: right;\">\n",
       "      <th></th>\n",
       "      <th>df</th>\n",
       "      <th>sum_sq</th>\n",
       "      <th>mean_sq</th>\n",
       "      <th>F</th>\n",
       "      <th>PR(&gt;F)</th>\n",
       "    </tr>\n",
       "  </thead>\n",
       "  <tbody>\n",
       "    <tr>\n",
       "      <th>X</th>\n",
       "      <td>3.0</td>\n",
       "      <td>6103.984713</td>\n",
       "      <td>2034.661571</td>\n",
       "      <td>503.658112</td>\n",
       "      <td>2.089355e-83</td>\n",
       "    </tr>\n",
       "    <tr>\n",
       "      <th>Residual</th>\n",
       "      <td>167.0</td>\n",
       "      <td>674.641139</td>\n",
       "      <td>4.039767</td>\n",
       "      <td>NaN</td>\n",
       "      <td>NaN</td>\n",
       "    </tr>\n",
       "  </tbody>\n",
       "</table>\n",
       "</div>"
      ],
      "text/plain": [
       "             df       sum_sq      mean_sq           F        PR(>F)\n",
       "X           3.0  6103.984713  2034.661571  503.658112  2.089355e-83\n",
       "Residual  167.0   674.641139     4.039767         NaN           NaN"
      ]
     },
     "execution_count": 39,
     "metadata": {},
     "output_type": "execute_result"
    }
   ],
   "source": [
    "anova_results = anova_lm(model)\n",
    "anova_results"
   ]
  },
  {
   "cell_type": "markdown",
   "id": "11c15924",
   "metadata": {
    "pycharm": {
     "name": "#%% md\n"
    }
   },
   "source": [
    " <h1 style=\"background-color:#3b5998;font-family:newtimeroman;font-size:250%;text-align:left;color:#FFFFFF\">H0 : B1=B2=Bn=0 \n",
    "    "
   ]
  },
  {
   "cell_type": "markdown",
   "id": "be7f96f4",
   "metadata": {
    "pycharm": {
     "name": "#%% md\n"
    }
   },
   "source": [
    " <h1 style=\"background-color:#3b5998;font-family:newtimeroman;font-size:250%;text-align:left;color:#FFFFFF\">F > PR(F) ise H0 reddedilir. \n",
    "    "
   ]
  },
  {
   "cell_type": "markdown",
   "id": "2941c826",
   "metadata": {
    "pycharm": {
     "name": "#%% md\n"
    }
   },
   "source": [
    " <h1 style=\"background-color:#3b5998;font-family:newtimeroman;font-size:250%;text-align:left;color:#FFFFFF\">H0 reddedilir, model anlamlıdır. \n",
    "    "
   ]
  },
  {
   "cell_type": "code",
   "execution_count": null,
   "id": "425a24c9",
   "metadata": {
    "pycharm": {
     "name": "#%%\n"
    }
   },
   "outputs": [],
   "source": []
  }
 ],
 "metadata": {
  "kernelspec": {
   "display_name": "Python 3 (ipykernel)",
   "language": "python",
   "name": "python3"
  },
  "language_info": {
   "codemirror_mode": {
    "name": "ipython",
    "version": 3
   },
   "file_extension": ".py",
   "mimetype": "text/x-python",
   "name": "python",
   "nbconvert_exporter": "python",
   "pygments_lexer": "ipython3",
   "version": "3.9.13"
  }
 },
 "nbformat": 4,
 "nbformat_minor": 5
}